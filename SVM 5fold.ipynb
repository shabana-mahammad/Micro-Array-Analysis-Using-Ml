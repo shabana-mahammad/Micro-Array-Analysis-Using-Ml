{
 "cells": [
  {
   "cell_type": "code",
   "execution_count": 2,
   "id": "8aaf9bb9-6130-4cb1-ae6c-d44ad4d4e519",
   "metadata": {},
   "outputs": [
    {
     "name": "stdout",
     "output_type": "stream",
     "text": [
      "Mean Accuracy: 0.99875\n",
      "Standard Deviation: 0.002499999999999991\n"
     ]
    }
   ],
   "source": [
    "import numpy as np\n",
    "import pandas as pd\n",
    "from sklearn import svm\n",
    "from sklearn.model_selection import StratifiedKFold\n",
    "from sklearn.metrics import accuracy_score\n",
    "\n",
    "# Load the data and labels\n",
    "data = pd.read_csv(\"data.csv\")\n",
    "labels = pd.read_csv(\"labels.csv\")\n",
    "\n",
    "# Extract features (genes) and labels\n",
    "X = data.iloc[:, 1:].to_numpy()\n",
    "y = labels.iloc[:, 1].values\n",
    "\n",
    "# Number of folds for cross-validation\n",
    "k = 5  \n",
    "# Initialize the SVM classifier\n",
    "svm_classifier = svm.SVC(kernel='linear')  # You can choose different kernel functions\n",
    "\n",
    "# Initialize StratifiedKFold for cross-validation\n",
    "skf = StratifiedKFold(n_splits=k, shuffle=True, random_state=42)\n",
    "\n",
    "# Lists to store accuracy for each fold\n",
    "accuracies = []\n",
    "\n",
    "# Perform k-fold cross-validation\n",
    "for train_index, test_index in skf.split(X, y):\n",
    "    X_train, X_test = X[train_index], X[test_index]\n",
    "    y_train, y_test = y[train_index], y[test_index]\n",
    "\n",
    "    # Fit the SVM model on the training data\n",
    "    svm_classifier.fit(X_train, y_train)\n",
    "\n",
    "    # Predict on the test data\n",
    "    y_pred = svm_classifier.predict(X_test)\n",
    "\n",
    "    # Calculate and store accuracy\n",
    "    accuracy = accuracy_score(y_test, y_pred)\n",
    "    accuracies.append(accuracy)\n",
    "\n",
    "# Calculate and print the mean accuracy and standard deviation\n",
    "mean_accuracy = np.mean(accuracies)\n",
    "std_accuracy = np.std(accuracies)\n",
    "\n",
    "print(f\"Mean Accuracy: {mean_accuracy}\")\n",
    "print(f\"Standard Deviation: {std_accuracy}\")\n"
   ]
  },
  {
   "cell_type": "code",
   "execution_count": null,
   "id": "9e0446f8-dac2-450e-830d-4de276c23046",
   "metadata": {},
   "outputs": [],
   "source": []
  }
 ],
 "metadata": {
  "kernelspec": {
   "display_name": "Python 3 (ipykernel)",
   "language": "python",
   "name": "python3"
  },
  "language_info": {
   "codemirror_mode": {
    "name": "ipython",
    "version": 3
   },
   "file_extension": ".py",
   "mimetype": "text/x-python",
   "name": "python",
   "nbconvert_exporter": "python",
   "pygments_lexer": "ipython3",
   "version": "3.10.9"
  }
 },
 "nbformat": 4,
 "nbformat_minor": 5
}
