{
 "cells": [
  {
   "cell_type": "code",
   "execution_count": 8,
   "id": "0582293a-be14-4aa2-964c-c93ff7956c75",
   "metadata": {},
   "outputs": [
    {
     "name": "stdout",
     "output_type": "stream",
     "text": [
      "Classification Accuracy: 0.9968798751950078\n",
      "F1 Score: 0.9968724630314096\n",
      "Precision: 0.9969053456015792\n",
      "Recall: 0.9968798751950078\n",
      "[[243   0   0   0   0]\n",
      " [  0  65   0   0   0]\n",
      " [  0   0 114   0   0]\n",
      " [  2   0   0 112   0]\n",
      " [  0   0   0   0 105]]\n"
     ]
    }
   ],
   "source": [
    "# Import necessary libraries\n",
    "import pandas as pd\n",
    "from sklearn.model_selection import train_test_split\n",
    "from sklearn.svm import SVC\n",
    "from sklearn.metrics import accuracy_score, f1_score, precision_score, recall_score, roc_auc_score\n",
    "\n",
    "# Load the gene expression data and labels\n",
    "data = pd.read_csv('data.csv', index_col=0)  # Assuming 'microarray_data.csv' is the name of your gene expression data file\n",
    "labels = pd.read_csv('labels.csv', index_col=0)  # Assuming 'labels.csv' is the name of your labels file\n",
    "\n",
    "# Split the data into features (gene expression data) and target (class labels)\n",
    "X = data\n",
    "y = labels['Class']  # Use the 'Class' column as the target\n",
    "\n",
    "# Split the data into training and testing sets\n",
    "X_train, X_test, y_train, y_test = train_test_split(X, y, test_size=0.8, random_state=42)\n",
    "\n",
    "# Initialize and train the SVM classifier for multiclass classification\n",
    "svm_classifier = SVC(kernel='linear', probability=True)\n",
    "svm_classifier.fit(X_train, y_train)\n",
    "\n",
    "# Make predictions on the test set\n",
    "y_pred = svm_classifier.predict(X_test)\n",
    "\n",
    "# Calculate AUC\n",
    "y_prob = svm_classifier.decision_function(X_test)\n",
    "#roc_auc = roc_auc_score(y_test, y_prob)\n",
    "\n",
    "# Calculate Classification Accuracy (CA)\n",
    "accuracy = accuracy_score(y_test, y_pred)\n",
    "\n",
    "# Calculate F1 Score\n",
    "f1 = f1_score(y_test, y_pred, average='weighted')  # You can adjust the average parameter as needed\n",
    "\n",
    "# Calculate Precision and Recall\n",
    "precision = precision_score(y_test, y_pred, average='weighted')\n",
    "recall = recall_score(y_test, y_pred, average='weighted')\n",
    "\n",
    "# Print the evaluation metrics\n",
    "#print(f'AUC: {roc_auc}')\n",
    "print(f'Classification Accuracy: {accuracy}')\n",
    "print(f'F1 Score: {f1}')\n",
    "print(f'Precision: {precision}')\n",
    "print(f'Recall: {recall}')\n",
    "cm = confusion_matrix(y_test, y_pred)\n",
    "print(cm)\n"
   ]
  },
  {
   "cell_type": "code",
   "execution_count": null,
   "id": "c93e1f4b-668a-4a16-b666-f2a2fa5af816",
   "metadata": {},
   "outputs": [],
   "source": []
  }
 ],
 "metadata": {
  "kernelspec": {
   "display_name": "Python 3 (ipykernel)",
   "language": "python",
   "name": "python3"
  },
  "language_info": {
   "codemirror_mode": {
    "name": "ipython",
    "version": 3
   },
   "file_extension": ".py",
   "mimetype": "text/x-python",
   "name": "python",
   "nbconvert_exporter": "python",
   "pygments_lexer": "ipython3",
   "version": "3.10.9"
  }
 },
 "nbformat": 4,
 "nbformat_minor": 5
}
