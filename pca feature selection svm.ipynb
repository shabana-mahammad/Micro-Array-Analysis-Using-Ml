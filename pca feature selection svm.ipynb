{
 "cells": [
  {
   "cell_type": "code",
   "execution_count": 2,
   "id": "e1aab272-086e-491b-b267-6ff96ae1cf32",
   "metadata": {},
   "outputs": [
    {
     "name": "stdout",
     "output_type": "stream",
     "text": [
      "Accuracy (Iteration 10): 98.76%\n",
      "F1 Score: 0.9876811594202898\n",
      "Precision: 0.9883790823482268\n",
      "Recall: 0.9875776397515528\n"
     ]
    }
   ],
   "source": [
    "import pandas as pd\n",
    "from sklearn.model_selection import train_test_split\n",
    "from sklearn.preprocessing import StandardScaler\n",
    "from sklearn.decomposition import PCA\n",
    "from sklearn.svm import SVC\n",
    "from sklearn.metrics import accuracy_score\n",
    "from sklearn.metrics import accuracy_score, f1_score, precision_score, recall_score, roc_auc_score\n",
    "import numpy as np\n",
    "\n",
    "data = pd.read_csv(\"data.csv\")\n",
    "labels = pd.read_csv(\"labels.csv\")\n",
    "\n",
    "# Extract features (data) and target labels (classes)\n",
    "X = data.values[:, 1:]  # Assuming the first column is an identifier, not a feature\n",
    "y = labels.values[:, 1]\n",
    "\n",
    "# Split the data into training and testing sets\n",
    "X_train, X_test, y_train, y_test = train_test_split(X, y, test_size=0.2, random_state=42)\n",
    "\n",
    "# Standardize the data (important for PCA)\n",
    "scaler = StandardScaler()\n",
    "X_train_std = scaler.fit_transform(X_train)\n",
    "X_test_std = scaler.transform(X_test)\n",
    "\n",
    "# Number of random genes to select for each iteration\n",
    "num_random_genes = 100\n",
    "\n",
    "# Number of iterations\n",
    "num_iterations = 10\n",
    "\n",
    "for iteration in range(num_iterations):\n",
    "    # Randomly select genes for this iteration\n",
    "    selected_genes_indices = np.random.choice(X_train_std.shape[1], size=num_random_genes, replace=False)\n",
    "    \n",
    "    # Extract the selected genes\n",
    "    X_train_selected = X_train_std[:, selected_genes_indices]\n",
    "    X_test_selected = X_test_std[:, selected_genes_indices]\n",
    "\n",
    "    # Perform PCA for feature selection\n",
    "    n_components = min(num_random_genes, X_train_selected.shape[1])\n",
    "    pca = PCA(n_components=n_components)\n",
    "    X_train_pca = pca.fit_transform(X_train_selected)\n",
    "    X_test_pca = pca.transform(X_test_selected)\n",
    "\n",
    "    # Initialize the SVM classifier with a linear kernel\n",
    "    svm_classifier = SVC(kernel='linear')\n",
    "\n",
    "    # Fit the SVM model on the training data with PCA-transformed features\n",
    "    svm_classifier.fit(X_train_pca, y_train)\n",
    "\n",
    "    # Predict on the test data with PCA-transformed features\n",
    "    y_pred = svm_classifier.predict(X_test_pca)\n",
    "\n",
    "    # Calculate and print accuracy for each iteration\n",
    "accuracy = accuracy_score(y_test, y_pred)\n",
    "print(f'Accuracy (Iteration {iteration + 1}): {accuracy * 100:.2f}%')\n",
    "f1 = f1_score(y_test, y_pred, average='weighted')  # You can adjust the average parameter as needed\n",
    "precision = precision_score(y_test, y_pred, average='weighted')\n",
    "recall = recall_score(y_test, y_pred, average='weighted')\n",
    "print(f'F1 Score: {f1}')\n",
    "print(f'Precision: {precision}')\n",
    "print(f'Recall: {recall}')\n"
   ]
  },
  {
   "cell_type": "code",
   "execution_count": null,
   "id": "6110aaee-d5fe-4e7c-9c45-08eaafba8163",
   "metadata": {},
   "outputs": [],
   "source": []
  }
 ],
 "metadata": {
  "kernelspec": {
   "display_name": "Python 3 (ipykernel)",
   "language": "python",
   "name": "python3"
  },
  "language_info": {
   "codemirror_mode": {
    "name": "ipython",
    "version": 3
   },
   "file_extension": ".py",
   "mimetype": "text/x-python",
   "name": "python",
   "nbconvert_exporter": "python",
   "pygments_lexer": "ipython3",
   "version": "3.10.9"
  }
 },
 "nbformat": 4,
 "nbformat_minor": 5
}
