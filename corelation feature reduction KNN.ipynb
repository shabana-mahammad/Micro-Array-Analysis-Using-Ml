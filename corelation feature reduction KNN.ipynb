{
 "cells": [
  {
   "cell_type": "code",
   "execution_count": 2,
   "id": "92f0a7fe-a35b-4a1b-855a-42b7dea9d7b9",
   "metadata": {},
   "outputs": [
    {
     "name": "stderr",
     "output_type": "stream",
     "text": [
      "C:\\Users\\neoad\\anaconda3\\envs\\idp\\lib\\site-packages\\sklearn\\feature_selection\\_univariate_selection.py:112: UserWarning: Features [    5    23  4370  4808  4809  4814  4816  4817  4831  5288  7661  7662\n",
      "  7663  7664  7665  8121  9304  9306  9314  9316  9320  9452 10121 11130\n",
      " 11958 12489 13860 13991 14158 14159 14161 15138 15140 15141 15446 16566\n",
      " 16568 16569 16571 16575 16578 16579 16580 16604 16634 16637 16677 16697\n",
      " 16698 16699 16700 16701 16702 16704 16705 16706 16707 16708 16709 16710\n",
      " 16711 16712 16713 16714 16715 16716 16717 16718 16719 16720 16721 16722\n",
      " 16723 16724 16725 16726 16727 16728 16729 16730 16731 16732 16733 16734\n",
      " 16735 16736 16737 16738 16739 16740 16741 16742 16743 16744 16745 16746\n",
      " 16748 16749 16750 16751 16752 16753 16754 16756 16757 16758 16759 16760\n",
      " 16761 16762 16763 16764 16765 16766 16767 16768 16769 16770 16771 16772\n",
      " 16774 16775 16776 16777 16778 16779 16780 16781 16782 16783 16785 16787\n",
      " 16788 16789 16790 16791 16792 16794 16795 16796 16798 16799 16800 16801\n",
      " 16802 16803 16804 16805 16806 16807 16808 16809 16810 16811 16812 16813\n",
      " 16816 16818 16819 16820 16821 16822 16823 16824 16826 16827 16830 16831\n",
      " 16832 16833 16834 16835 16836 16837 16838 16839 16840 16841 16842 16843\n",
      " 16844 16845 16846 16847 16848 16849 16850 16851 16852 16853 16854 16855\n",
      " 16856 16857 16858 16859 16860 16861 16862 16863 16864 16865 16866 16867\n",
      " 16868 16869 16870 16871 16872 16873 16874 16875 16876 16877 16878 16879\n",
      " 16880 16881 16882 16883 16884 16885 16886 16888 16889 16890 16891 16892\n",
      " 16893 16894 16895 16896 16897 16898 16899 16900 16901 16902 16903 16904\n",
      " 16905 16906 16907 16908 16909 16910 16911 16914 16915 16916 16917 16918\n",
      " 16920 16921 16922 16924 16925 16926 17496 18829 18902 18903 18908 18909\n",
      " 18910 18911 18914 18915 18992 19450 19451 19452 19671] are constant.\n",
      "  warnings.warn(\"Features %s are constant.\" % constant_features_idx, UserWarning)\n",
      "C:\\Users\\neoad\\anaconda3\\envs\\idp\\lib\\site-packages\\sklearn\\feature_selection\\_univariate_selection.py:113: RuntimeWarning: invalid value encountered in divide\n",
      "  f = msb / msw\n"
     ]
    },
    {
     "name": "stdout",
     "output_type": "stream",
     "text": [
      "Precision: 0.96\n",
      "Recall: 0.96\n",
      "F1 Score: 0.96\n",
      "Accuracy is : 96.27329192546584 %\n"
     ]
    }
   ],
   "source": [
    "import numpy as np\n",
    "import pandas as pd\n",
    "import matplotlib.pyplot as plt\n",
    "from sklearn.model_selection import train_test_split\n",
    "from sklearn.neighbors import KNeighborsClassifier\n",
    "from sklearn.feature_selection import SelectKBest, f_classif\n",
    "from sklearn.metrics import accuracy_score, f1_score, precision_score, recall_score, roc_curve, auc\n",
    "from sklearn.preprocessing import LabelEncoder\n",
    "\n",
    "\n",
    "# Load data and labels\n",
    "data = pd.read_csv(\"data.csv\")\n",
    "labels = pd.read_csv(\"labels.csv\")\n",
    "\n",
    "# Extract features (data) and target labels (classes)\n",
    "X = data.values[:, 1:]  # Assuming the first column is an identifier, not a feature\n",
    "y = labels.values[:, 1]  # Assuming the first column is an identifier, not a label\n",
    "\n",
    "X_train, X_test, Y_train, Y_test = train_test_split(X, y, test_size=0.2, random_state=42)\n",
    "\n",
    "# Apply correlation-based feature selection\n",
    "k_best = 10 # Set the desired number of features\n",
    "selector = SelectKBest(f_classif, k=k_best)\n",
    "X_train = selector.fit_transform(X_train, Y_train)\n",
    "X_test = selector.transform(X_test)\n",
    "# Initialize KNN classifier\n",
    "k = 5  # You can adjust the value of k as needed\n",
    "knn = KNeighborsClassifier(n_neighbors=k)\n",
    "\n",
    "# Train the KNN classifier\n",
    "knn.fit(X_train, Y_train)\n",
    "\n",
    "# Make predictions\n",
    "Y_pred = knn.predict(X_test)\n",
    "\n",
    "# Calculate evaluation metrics\n",
    "accuracy = accuracy_score(Y_test, Y_pred)\n",
    "\n",
    "# Calculate Precision\n",
    "precision = precision_score(Y_test, Y_pred, average='weighted')  \n",
    "print(f'Precision: {precision:.2f}')\n",
    "\n",
    "# Calculate Recall\n",
    "recall = recall_score(Y_test, Y_pred, average='weighted')  \n",
    "print(f'Recall: {recall:.2f}')\n",
    "\n",
    "# Calculate F1 Score\n",
    "f1 = f1_score(Y_test, Y_pred, average='weighted')  \n",
    "print(f'F1 Score: {f1:.2f}')\n",
    "\n",
    "print(\"Accuracy is :\",accuracy*100,'%')\n",
    "\n"
   ]
  },
  {
   "cell_type": "code",
   "execution_count": null,
   "id": "d0ddc4cb-0dbf-47de-b4c8-834dc6386ef1",
   "metadata": {},
   "outputs": [],
   "source": []
  }
 ],
 "metadata": {
  "kernelspec": {
   "display_name": "Python 3 (ipykernel)",
   "language": "python",
   "name": "python3"
  },
  "language_info": {
   "codemirror_mode": {
    "name": "ipython",
    "version": 3
   },
   "file_extension": ".py",
   "mimetype": "text/x-python",
   "name": "python",
   "nbconvert_exporter": "python",
   "pygments_lexer": "ipython3",
   "version": "3.10.9"
  }
 },
 "nbformat": 4,
 "nbformat_minor": 5
}
