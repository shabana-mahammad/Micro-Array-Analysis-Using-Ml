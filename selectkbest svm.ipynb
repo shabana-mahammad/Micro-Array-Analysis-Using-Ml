{
 "cells": [
  {
   "cell_type": "code",
   "execution_count": 2,
   "id": "1e136151-710b-454b-9a27-439163384b95",
   "metadata": {},
   "outputs": [
    {
     "name": "stdout",
     "output_type": "stream",
     "text": [
      "Selected Feature Indices: [ 8  9 13 20 25 28 30 31 39 40]\n",
      "0.85\n",
      "Precision: 0.86\n",
      "Recall: 0.85\n",
      "F1 Score: 0.85\n"
     ]
    }
   ],
   "source": [
    "import numpy as np\n",
    "import pandas as pd\n",
    "from sklearn.feature_selection import SelectKBest, f_classif\n",
    "from sklearn.model_selection import train_test_split\n",
    "from sklearn.datasets import make_classification\n",
    "from sklearn.svm import SVC\n",
    "from sklearn.metrics import accuracy_score\n",
    "\n",
    "from sklearn.metrics import precision_score, recall_score, f1_score\n",
    "from sklearn import svm\n",
    "\n",
    "\n",
    "data = pd.read_csv(\"data.csv\")\n",
    "labels = pd.read_csv(\"labels.csv\")\n",
    "\n",
    "# Extract features (data) and target labels (classes)\n",
    "X = data.values[:, 1:]  # Assuming the first column is an identifier, not a feature\n",
    "y = labels.values[:, 1]  # Assuming the first column is an identifier, not a label\n",
    "\n",
    "X, y = make_classification(n_samples=100, n_features=50, n_informative=10, n_classes=2, random_state=42)\n",
    "\n",
    "# Split the data into training and testing sets\n",
    "X_train, X_test, y_train, y_test = train_test_split(X, y, test_size=0.2, random_state=42)\n",
    "\n",
    "# Initialize SelectKBest with the desired score function (f_classif for classification)\n",
    "k_best = SelectKBest(score_func=f_classif, k=10)  \n",
    "\n",
    "# Fit and transform the feature matrix\n",
    "X_train_k_best = k_best.fit_transform(X_train, y_train)\n",
    "X_test_k_best = k_best.transform(X_test)\n",
    "\n",
    "# Print the indices of the selected features\n",
    "selected_feature_indices = np.where(k_best.get_support())[0]\n",
    "print(\"Selected Feature Indices:\", selected_feature_indices)\n",
    "\n",
    "clf = SVC(kernel='linear', random_state=42)\n",
    "clf.fit(X_train_k_best, y_train)\n",
    "\n",
    "# Make predictions on the test set\n",
    "svm_classifier = svm.SVC(kernel='linear')\n",
    "\n",
    "# Fit the SVM model on the training data with selected features\n",
    "svm_classifier.fit(X_train_k_best, y_train)\n",
    "\n",
    "# Predict on the test data with selected features\n",
    "y_pred = svm_classifier.predict(X_test_k_best)\n",
    "\n",
    "# Calculate and print accuracy\n",
    "accuracy = accuracy_score(y_test, y_pred)\n",
    "print(\"Accuracy is :\",accuracy*100,\"%\")\n",
    "\n",
    "# Print the selected feature names or indices\n",
    "selected_feature_names = data.columns[1:][selected_feature_indices]\n",
    "\n",
    "# Make predictions on the test set\n",
    "svm_classifier = svm.SVC(kernel='linear')\n",
    "\n",
    "# Fit the SVM model on the training data with selected features\n",
    "svm_classifier.fit(X_train_k_best, y_train)\n",
    "\n",
    "# Predict on the test data with selected features\n",
    "y_pred = svm_classifier.predict(X_test_k_best)\n",
    "\n",
    "# Calculate and print precision, recall, and F1 score\n",
    "precision = precision_score(y_test, y_pred, average='weighted')\n",
    "recall = recall_score(y_test, y_pred, average='weighted')\n",
    "f1 = f1_score(y_test, y_pred, average='weighted')\n",
    "\n",
    "print(f'Precision: {precision:.2f}')\n",
    "print(f'Recall: {recall:.2f}')\n",
    "print(f'F1 Score: {f1:.2f}')\n",
    "\n"
   ]
  },
  {
   "cell_type": "code",
   "execution_count": null,
   "id": "e99cb20f-10c7-408c-9230-18b68bcd8b28",
   "metadata": {},
   "outputs": [],
   "source": []
  }
 ],
 "metadata": {
  "kernelspec": {
   "display_name": "Python 3 (ipykernel)",
   "language": "python",
   "name": "python3"
  },
  "language_info": {
   "codemirror_mode": {
    "name": "ipython",
    "version": 3
   },
   "file_extension": ".py",
   "mimetype": "text/x-python",
   "name": "python",
   "nbconvert_exporter": "python",
   "pygments_lexer": "ipython3",
   "version": "3.10.9"
  }
 },
 "nbformat": 4,
 "nbformat_minor": 5
}
